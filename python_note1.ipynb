{
 "cells": [
  {
   "cell_type": "markdown",
   "id": "c004228a",
   "metadata": {},
   "source": [
    "# 🐍 Python Essentials — Session 1  \n",
    "\n",
    "\n",
    "1. Run Python code in a notebook or REPL  \n",
    "2. Create and manipulate variables, numbers, and strings  \n",
    "3. Work with common data collections (lists, tuples, dictionaries, sets)  \n",
    "4. Control program flow with `if`, `for`, and `while`  \n",
    "5. Write simple functions  \n",
    "6. Build concise expressions with **list comprehensions** and sequence slicing  \n",
    "7. Read from and write to text files  \n",
    "8. Handle errors gracefully with `try` / `except`  \n",
    "9. Import and leverage standard‑library modules (e.g. `math`)  \n",
    "\n",
    "Five exercises will reinforce these concepts (solutions at the end).\n"
   ]
  },
  {
   "cell_type": "markdown",
   "id": "28bb42ad",
   "metadata": {},
   "source": [
    "## 1 — Getting Started"
   ]
  },
  {
   "cell_type": "code",
   "execution_count": null,
   "id": "53e35ce1",
   "metadata": {},
   "outputs": [],
   "source": [
    "print(\"Hello, Python!\")"
   ]
  },
  {
   "cell_type": "markdown",
   "id": "bb5684bd",
   "metadata": {},
   "source": [
    "## 2 — Variables & Data Types  \n",
    "\n",
    "Python is dynamically typed: variable types are inferred from their values.\n"
   ]
  },
  {
   "cell_type": "code",
   "execution_count": null,
   "id": "7215e2b6",
   "metadata": {},
   "outputs": [],
   "source": [
    "# Numbers\n",
    "x = 42            # int\n",
    "pi = 3.14159       # float\n",
    "# Strings\n",
    "name = \"Ada\"\n",
    "# Booleans\n",
    "flag = True\n",
    "\n",
    "print(type(x), type(pi), type(name), type(flag))"
   ]
  },
  {
   "cell_type": "markdown",
   "id": "6f66178a",
   "metadata": {},
   "source": [
    "### Basic Operations"
   ]
  },
  {
   "cell_type": "code",
   "execution_count": null,
   "id": "f5a94b15",
   "metadata": {},
   "outputs": [],
   "source": [
    "# Arithmetic\n",
    "a, b = 7, 3\n",
    "print(\"addition:\", a + b)\n",
    "print(\"division:\", a / b)\n",
    "print(\"integer division:\", a // b)\n",
    "print(\"power:\", a ** b)\n",
    "\n",
    "# String concatenation\n",
    "greeting = \"Hello\" + \" \" + name\n",
    "print(greeting)"
   ]
  },
  {
   "cell_type": "markdown",
   "id": "4ba4f17a",
   "metadata": {},
   "source": [
    "## 3 — Collections  \n",
    "\n",
    "| Collection | Literal | Mutability | Ordered |\n",
    "|-----------|---------|------------|---------|\n",
    "| List      | `[1, 2]`| ✅         | ✅      |\n",
    "| Tuple     | `(1, 2)`| ❌         | ✅      |\n",
    "| Dict      | `{'a': 1}` | ✅     | ❌ (3.7+ preserves insertion order) |\n",
    "| Set       | `{1, 2}`| ✅         | ❌      |\n"
   ]
  },
  {
   "cell_type": "code",
   "execution_count": null,
   "id": "d9cb7d7c",
   "metadata": {},
   "outputs": [],
   "source": [
    "my_list = [1, 2, 3]\n",
    "my_tuple = (1, 2, 3)\n",
    "my_dict = {\"apple\": 2, \"banana\": 3}\n",
    "my_set = {1, 2, 2, 3}\n",
    "\n",
    "print(my_list)\n",
    "print(my_tuple)\n",
    "print(my_dict)\n",
    "print(my_set)"
   ]
  },
  {
   "cell_type": "markdown",
   "id": "0ef94ad8",
   "metadata": {},
   "source": [
    "## 4 — Control Flow"
   ]
  },
  {
   "cell_type": "code",
   "execution_count": null,
   "id": "1bdc2111",
   "metadata": {},
   "outputs": [],
   "source": [
    "n = 5\n",
    "if n % 2 == 0:\n",
    "    print(\"even\")\n",
    "else:\n",
    "    print(\"odd\")\n",
    "\n",
    "for i in range(1, 6):\n",
    "    print(i, end=\" \")\n",
    "\n",
    "print(\"\\nWhile loop:\")\n",
    "count = 0\n",
    "while count < 3:\n",
    "    print(\"count =\", count)\n",
    "    count += 1"
   ]
  },
  {
   "cell_type": "markdown",
   "id": "69d04805",
   "metadata": {},
   "source": [
    "## 5 — Functions"
   ]
  },
  {
   "cell_type": "code",
   "execution_count": null,
   "id": "d9d34b9a",
   "metadata": {},
   "outputs": [],
   "source": [
    "def greet(name):\n",
    "    \"\"\"Return a personalized greeting.\"\"\"\n",
    "    return f\"Hello, {name}!\"\n",
    "\n",
    "greet(\"Grace\")"
   ]
  },
  {
   "cell_type": "markdown",
   "id": "0b5ec3a2",
   "metadata": {},
   "source": [
    "## 6 — List Comprehensions & Slicing"
   ]
  },
  {
   "cell_type": "code",
   "execution_count": null,
   "id": "3a4f42ef",
   "metadata": {},
   "outputs": [],
   "source": [
    "nums = list(range(10))\n",
    "squares = [n**2 for n in nums]\n",
    "evens = [n for n in nums if n % 2 == 0]\n",
    "print(\"squares:\", squares)\n",
    "print(\"evens:\", evens)\n",
    "\n",
    "# Slicing: [start:stop:step]\n",
    "print(\"last 3 squares:\", squares[-3:])\n",
    "print(\"every other number:\", nums[::2])"
   ]
  },
  {
   "cell_type": "markdown",
   "id": "faab35e1",
   "metadata": {},
   "source": [
    "## 7 — Basic File I/O"
   ]
  },
  {
   "cell_type": "code",
   "execution_count": null,
   "id": "e5922c56",
   "metadata": {},
   "outputs": [],
   "source": [
    "# Write to a text file\n",
    "with open(\"hello.txt\", \"w\") as f:\n",
    "    f.write(\"Hello file!\\nThis is a second line.\")\n",
    "\n",
    "# Read it back\n",
    "with open(\"hello.txt\") as f:\n",
    "    content = f.read()\n",
    "print(content)"
   ]
  },
  {
   "cell_type": "markdown",
   "id": "67a453ae",
   "metadata": {},
   "source": [
    "## 8 — Error Handling"
   ]
  },
  {
   "cell_type": "code",
   "execution_count": null,
   "id": "0e5a7d68",
   "metadata": {},
   "outputs": [],
   "source": [
    "try:\n",
    "    value = int(\"not_a_number\")\n",
    "except ValueError as e:\n",
    "    print(\"Conversion failed:\", e)"
   ]
  },
  {
   "cell_type": "markdown",
   "id": "ddaf1329",
   "metadata": {},
   "source": [
    "## 9 — Importing Modules"
   ]
  },
  {
   "cell_type": "code",
   "execution_count": null,
   "id": "383f1e30",
   "metadata": {},
   "outputs": [],
   "source": [
    "import math\n",
    "print(\"π =\", math.pi)\n",
    "print(\"cos(60°) =\", math.cos(math.radians(60)))"
   ]
  },
  {
   "cell_type": "markdown",
   "id": "675efe71",
   "metadata": {},
   "source": [
    "---\n",
    "# 🔨 Hands‑On Exercises  \n",
    "\n",
    "Work on each exercise in the empty code cell below its description.  \n",
    "Try it yourself first—solutions are at the end of the notebook (hidden during the live session).  \n"
   ]
  },
  {
   "cell_type": "markdown",
   "id": "23c8903a",
   "metadata": {},
   "source": [
    "### Exercise 1: Temperature Converter  \n",
    "\n",
    "Write code that reads a temperature in **Celsius** (e.g. `25`) and prints the equivalent in **Fahrenheit**  \n",
    "using the formula \\(F = C \\times 1.8 + 32\\)."
   ]
  },
  {
   "cell_type": "code",
   "execution_count": 13,
   "id": "f38d7335",
   "metadata": {},
   "outputs": [
    {
     "name": "stdout",
     "output_type": "stream",
     "text": [
      "Temperature in Celsius: 25.0\n"
     ]
    }
   ],
   "source": [
    "f = float(input(\"Enter temperature in Fahrenheit: \"))\n",
    "c = (f - 32) / 1.8\n",
    "print(\"Temperature in Celsius:\", c)\n"
   ]
  },
  {
   "cell_type": "markdown",
   "id": "1ae0d06a",
   "metadata": {},
   "source": [
    "### Exercise 2: List Comprehension  \n",
    "\n",
    "Given a list of integers `nums = [1, 2, 3, 4, 5]`, use a *list comprehension* to create a new list  \n",
    "containing the squares of the even numbers only (`[4, 16]`)."
   ]
  },
  {
   "cell_type": "code",
   "execution_count": 2,
   "id": "e13df769",
   "metadata": {},
   "outputs": [
    {
     "name": "stdout",
     "output_type": "stream",
     "text": [
      "[4, 16]\n"
     ]
    }
   ],
   "source": [
    "nums = [1, 2, 3, 4, 5]\n",
    "squares = [x**2 for x in nums if x % 2 == 0]\n",
    "print(squares)  # Output: [4, 16]"
   ]
  },
  {
   "cell_type": "markdown",
   "id": "22efebf5",
   "metadata": {},
   "source": [
    "### Exercise 3: FizzBuzz  \n",
    "\n",
    "Print the numbers 1 → 20, but:  \n",
    "* For multiples of **3** print `\"Fizz\"` instead of the number  \n",
    "* For multiples of **5** print `\"Buzz\"`  \n",
    "* For multiples of **both 3 and 5** print `\"FizzBuzz\"`"
   ]
  },
  {
   "cell_type": "code",
   "execution_count": 9,
   "id": "de34c61e",
   "metadata": {},
   "outputs": [
    {
     "name": "stdout",
     "output_type": "stream",
     "text": [
      "1\n",
      "2\n",
      "Fizz\n",
      "4\n",
      "Buzz\n",
      "Fizz\n",
      "7\n",
      "8\n",
      "Fizz\n",
      "Buzz\n",
      "11\n",
      "Fizz\n",
      "13\n",
      "14\n",
      "FizzBuzz\n",
      "16\n",
      "17\n",
      "Fizz\n",
      "19\n",
      "Buzz\n"
     ]
    }
   ],
   "source": [
    "for i in range(1, 21):\n",
    "    if i % 3 == 0 and i % 5 == 0:\n",
    "        print(\"FizzBuzz\")\n",
    "    elif i % 3 == 0:\n",
    "        print(\"Fizz\")\n",
    "    elif i % 5 == 0:\n",
    "        print(\"Buzz\")\n",
    "    else:\n",
    "        print(i)"
   ]
  },
  {
   "cell_type": "markdown",
   "id": "6e78fc12",
   "metadata": {},
   "source": [
    "### Exercise 4: Prime Checker  \n",
    "\n",
    "Write a **function** `is_prime(n)` that returns `True` if `n` is a prime number and `False` otherwise.  \n",
    "Test it on several inputs (e.g. `2, 9, 17`)."
   ]
  },
  {
   "cell_type": "code",
   "execution_count": 4,
   "id": "999db340",
   "metadata": {},
   "outputs": [
    {
     "name": "stdout",
     "output_type": "stream",
     "text": [
      "True\n",
      "False\n",
      "True\n"
     ]
    }
   ],
   "source": [
    "def is_prime(n):\n",
    "    if n <= 1:\n",
    "        return False\n",
    "    for i in range(2, int(n**0.5) + 1):\n",
    "        if n % i == 0:\n",
    "            return False\n",
    "    return True\n",
    "\n",
    "# Test the function\n",
    "print(is_prime(2))   # True\n",
    "print(is_prime(9))   # False\n",
    "print(is_prime(17))  # True\n"
   ]
  },
  {
   "cell_type": "markdown",
   "id": "863ee2e5",
   "metadata": {},
   "source": [
    "### Exercise 5 (Bonus): File Word Count  \n",
    "\n",
    "1. Ensure there is a text file named `sample.txt` in the same folder (or pick any `.txt` file).  \n",
    "2. Write code that opens the file, counts how many times each word appears (case‑insensitive), and prints the 10 most frequent words with their counts.  \n",
    "\n",
    "Hint: `str.lower()`, `str.split()`, and `collections.Counter` are handy.\n"
   ]
  },
  {
   "cell_type": "markdown",
   "id": "b62da485",
   "metadata": {},
   "source": []
  },
  {
   "cell_type": "markdown",
   "id": "05060cf1",
   "metadata": {},
   "source": [
    "---\n",
    "## 🏡 Practice at Home  \n",
    "\n",
    "1. **String reversal** – Write a function that reverses any string without using slicing (`[::-1]`).  \n",
    "2. **Word count** – Read a text file and calculate the frequency of each word (case‑insensitive).  \n",
    "3. **Simple calculator** – Create a loop that lets the user enter expressions like `2 + 3 * 4` and prints the result until they type `quit`.  \n",
    "\n",
    "Happy coding!\n"
   ]
  },
  {
   "cell_type": "markdown",
   "id": "022c6589",
   "metadata": {},
   "source": [
    "<details>\n",
    "<summary>✅ <strong>Click to reveal example solutions</strong></summary>\n",
    "\n",
    "```python\n",
    "# Exercise 5\n",
    "from collections import Counter\n",
    "with open(\"sample.txt\") as f:\n",
    "    words = [w.lower().strip('.,;:!?\"()[]') for w in f.read().split()]\n",
    "for word, count in Counter(words).most_common(10):\n",
    "    print(word, count)\n",
    "\n",
    "# Exercise 1\n",
    "c = 25\n",
    "f = c * 1.8 + 32\n",
    "print(f)\n",
    "\n",
    "# Exercise 2\n",
    "nums = [1, 2, 3, 4, 5]\n",
    "squares_even = [n**2 for n in nums if n % 2 == 0]\n",
    "print(squares_even)\n",
    "\n",
    "# Exercise 3\n",
    "for n in range(1, 21):\n",
    "    if n % 15 == 0:\n",
    "        print(\"FizzBuzz\")\n",
    "    elif n % 3 == 0:\n",
    "        print(\"Fizz\")\n",
    "    elif n % 5 == 0:\n",
    "        print(\"Buzz\")\n",
    "    else:\n",
    "        print(n)\n",
    "\n",
    "# Exercise 4\n",
    "def is_prime(n):\n",
    "    if n < 2:\n",
    "        return False\n",
    "    for d in range(2, int(n**0.5) + 1):\n",
    "        if n % d == 0:\n",
    "            return False\n",
    "    return True\n",
    "```\n",
    "</details>\n"
   ]
  },
  {
   "cell_type": "code",
   "execution_count": 14,
   "id": "ccbda205",
   "metadata": {},
   "outputs": [
    {
     "name": "stdout",
     "output_type": "stream",
     "text": [
      "olleh\n"
     ]
    }
   ],
   "source": [
    "def reverse_string(s):\n",
    "    result = ''\n",
    "    for char in s:\n",
    "        result = char + result\n",
    "    return result\n",
    "\n",
    "# Example\n",
    "print(reverse_string(\"hello\"))  # Output: \"olleh\"\n"
   ]
  },
  {
   "cell_type": "code",
   "execution_count": 19,
   "id": "94104879",
   "metadata": {},
   "outputs": [
    {
     "ename": "SyntaxError",
     "evalue": "invalid syntax (2906965918.py, line 1)",
     "output_type": "error",
     "traceback": [
      "\u001b[0;36m  Cell \u001b[0;32mIn[19], line 1\u001b[0;36m\u001b[0m\n\u001b[0;31m    rom collections import Counter\u001b[0m\n\u001b[0m        ^\u001b[0m\n\u001b[0;31mSyntaxError\u001b[0m\u001b[0;31m:\u001b[0m invalid syntax\n"
     ]
    }
   ],
   "source": [
    "rom collections import Counter\n",
    "\n",
    "with open(\"sample.txt\", \"r\") as f:\n",
    "    words = [w.lower().strip('.,;:!?\"()[]') for w in f.read().split()]\n",
    "\n",
    "word_counts = Counter(words)\n",
    "\n",
    "# Print all word frequencies\n",
    "for word, count in word_counts.items():\n",
    "    print(f\"{word}: {count}\") "
   ]
  },
  {
   "cell_type": "code",
   "execution_count": 17,
   "id": "ae78e2d8",
   "metadata": {},
   "outputs": [],
   "source": [
    "while True:\n",
    "    expr = input(\"Enter an expression (or type 'quit' to exit): \")\n",
    "    if expr.lower() == 'quit':\n",
    "        break\n",
    "    try:\n",
    "        result = eval(expr)\n",
    "        print(\"Result:\", result)\n",
    "    except Exception as e:\n",
    "        print(\"Error:\", e)"
   ]
  }
 ],
 "metadata": {
  "kernelspec": {
   "display_name": "Python 3",
   "language": "python",
   "name": "python3"
  },
  "language_info": {
   "codemirror_mode": {
    "name": "ipython",
    "version": 3
   },
   "file_extension": ".py",
   "mimetype": "text/x-python",
   "name": "python",
   "nbconvert_exporter": "python",
   "pygments_lexer": "ipython3",
   "version": "3.10.7"
  }
 },
 "nbformat": 4,
 "nbformat_minor": 5
}
