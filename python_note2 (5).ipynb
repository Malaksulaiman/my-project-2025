{
 "cells": [
  {
   "cell_type": "markdown",
   "id": "77a7ae68",
   "metadata": {},
   "source": [
    "# 🐍 Python Essentials — Session 2\n",
    "\n",
    "\n",
    "### Learning goals  \n",
    "1. Master *comprehensions* (list / dict / set) and *generator expressions*  \n",
    "2. Use advanced function features (`lambda`, `*args`, `**kwargs`, decorators)  \n",
    "3. Build your own *generators* with `yield`  \n",
    "4. Create simple but idiomatic *classes* (OOP)  \n",
    "5. Write and use *context managers* with `with`  \n",
    "6. Organize code into *modules* and understand imports  \n",
    "7. Explore handy pieces of the **standard library** (`collections`, `itertools`, `pathlib`)  \n",
    "\n"
   ]
  },
  {
   "cell_type": "markdown",
   "id": "5630573a",
   "metadata": {},
   "source": [
    "## 1 — Quick Recap & Setup"
   ]
  },
  {
   "cell_type": "code",
   "execution_count": null,
   "id": "5ba5e25b",
   "metadata": {},
   "outputs": [],
   "source": [
    "# Nothing to set up for now, but we import typing for later examples\n",
    "from __future__ import annotations"
   ]
  },
  {
   "cell_type": "markdown",
   "id": "cc14469b",
   "metadata": {},
   "source": [
    "## 2 — Comprehensions & Generator Expressions"
   ]
  },
  {
   "cell_type": "code",
   "execution_count": null,
   "id": "f8c1f12d",
   "metadata": {},
   "outputs": [],
   "source": [
    "nums = range(10)\n",
    "\n",
    "# List comprehension\n",
    "squares = [n**2 for n in nums]\n",
    "\n",
    "# Dict comprehension\n",
    "square_map = {n: n**2 for n in nums}\n",
    "\n",
    "# Set comprehension (unique even squares)\n",
    "even_square_set = {n**2 for n in nums if n % 2 == 0}\n",
    "\n",
    "# Generator expression (lazy)\n",
    "square_gen = (n**2 for n in nums)\n",
    "\n",
    "print(\"squares:\", squares[:5], \"...\")  # show first 5\n",
    "print(\"dict entry 3->\", square_map[3])\n",
    "print(\"set:\", even_square_set)\n",
    "print(\"next from generator:\", next(square_gen))"
   ]
  },
  {
   "cell_type": "markdown",
   "id": "411fa476",
   "metadata": {},
   "source": [
    "✅ **Why generators?** They compute items lazily, so memory stays low when streaming large data."
   ]
  },
  {
   "cell_type": "markdown",
   "id": "05078bd1",
   "metadata": {},
   "source": [
    "## 3 — Functions: `lambda`, `*args`, `**kwargs`, Decorators"
   ]
  },
  {
   "cell_type": "code",
   "execution_count": null,
   "id": "a50a5a75",
   "metadata": {},
   "outputs": [],
   "source": [
    "def poly_sum(*args):\n",
    "    \"\"\"Return the sum of any count of numbers.\"\"\"\n",
    "    return sum(args)\n",
    "\n",
    "print(poly_sum(1, 2, 3, 4))\n",
    "\n",
    "# Keyword‑only arg after *, and default value\n",
    "def greet(name, *, excited=False):\n",
    "    msg = f\"Hello, {name}!\"\n",
    "    return msg.upper() if excited else msg\n",
    "print(greet(\"Ada\", excited=True))\n",
    "\n",
    "# Lambda + map\n",
    "doubles = list(map(lambda x: 2 * x, range(5)))\n",
    "print(\"doubles:\", doubles)\n",
    "\n",
    "# Decorator example: timing\n",
    "import time, functools\n",
    "\n",
    "def timeit(fn):\n",
    "    @functools.wraps(fn)\n",
    "    def wrapper(*args, **kwargs):\n",
    "        start = time.perf_counter()\n",
    "        result = fn(*args, **kwargs)\n",
    "        print(f\"{fn.__name__} took {time.perf_counter()-start:.4f}s\")\n",
    "        return result\n",
    "    return wrapper\n",
    "\n",
    "@timeit\n",
    "def busy_wait(n:int):\n",
    "    for _ in range(n):\n",
    "        pass\n",
    "busy_wait(1_000_000)"
   ]
  },
  {
   "cell_type": "markdown",
   "id": "0e31d0d5",
   "metadata": {},
   "source": [
    "## 4 — Generators with `yield`"
   ]
  },
  {
   "cell_type": "code",
   "execution_count": null,
   "id": "63ff0a76",
   "metadata": {},
   "outputs": [],
   "source": [
    "def fibonacci():\n",
    "    a, b = 0, 1\n",
    "    while True:\n",
    "        yield a\n",
    "        a, b = b, a + b\n",
    "\n",
    "fib = fibonacci()\n",
    "for _ in range(8):\n",
    "    print(next(fib), end=\" \")"
   ]
  },
  {
   "cell_type": "markdown",
   "id": "efefe207",
   "metadata": {},
   "source": [
    "## 5 — Object‑Oriented Programming (OOP)"
   ]
  },
  {
   "cell_type": "code",
   "execution_count": null,
   "id": "8a0e8188",
   "metadata": {},
   "outputs": [],
   "source": [
    "class Vector2D:\n",
    "    __slots__ = (\"x\", \"y\")  # memory optimisation\n",
    "    def __init__(self, x: float, y: float):\n",
    "        self.x, self.y = x, y\n",
    "    def __add__(self, other:'Vector2D') -> 'Vector2D':\n",
    "        return Vector2D(self.x + other.x, self.y + other.y)\n",
    "    def magnitude(self) -> float:\n",
    "        return (self.x**2 + self.y**2) ** 0.5\n",
    "    def __repr__(self):\n",
    "        return f\"Vector2D({self.x}, {self.y})\"\n",
    "\n",
    "v1 = Vector2D(3, 4)\n",
    "v2 = Vector2D(1, 2)\n",
    "print(\"sum:\", v1 + v2)\n",
    "print(\"magnitude v1:\", v1.magnitude())"
   ]
  },
  {
   "cell_type": "markdown",
   "id": "da18c334",
   "metadata": {},
   "source": [
    "## 6 — Context Managers (`with` statement)"
   ]
  },
  {
   "cell_type": "code",
   "execution_count": null,
   "id": "f0cbf5e7",
   "metadata": {},
   "outputs": [],
   "source": [
    "from contextlib import contextmanager\n",
    "\n",
    "@contextmanager\n",
    "def open_lower(path):\n",
    "    \"\"\"A silly context manager that yields lowercase content of a file.\"\"\"\n",
    "    f = open(path)\n",
    "    try:\n",
    "        yield f.read().lower()\n",
    "    finally:\n",
    "        f.close()\n",
    "\n",
    "# Demo (create temp file)\n",
    "with open(\"temp.txt\", \"w\") as f:\n",
    "    f.write(\"ABC\\nDEF\")\n",
    "\n",
    "with open_lower(\"temp.txt\") as data:\n",
    "    print(data)"
   ]
  },
  {
   "cell_type": "markdown",
   "id": "14a5ed32",
   "metadata": {},
   "source": [
    "## 7 — Modules & Packages"
   ]
  },
  {
   "cell_type": "code",
   "execution_count": null,
   "id": "1f53ff42",
   "metadata": {},
   "outputs": [],
   "source": [
    "# Create a tiny module on the fly ----\n",
    "module_code = '''\n",
    "def add(a, b):\n",
    "    return a + b\n",
    "\n",
    "if __name__ == \"__main__\":\n",
    "    # test\n",
    "    print(\"2+3 =\", add(2,3))\n",
    "'''\n",
    "with open('mymath.py', 'w') as f:\n",
    "    f.write(module_code)\n",
    "\n",
    "# Now import it\n",
    "import importlib\n",
    "mymath = importlib.import_module('mymath')\n",
    "print(\"Imported mymath.add(5,6) ->\", mymath.add(5, 6))"
   ]
  },
  {
   "cell_type": "markdown",
   "id": "d1712ade",
   "metadata": {},
   "source": [
    "## 8 — Handy Standard‑Library Tools"
   ]
  },
  {
   "cell_type": "code",
   "execution_count": null,
   "id": "28fb696d",
   "metadata": {},
   "outputs": [],
   "source": [
    "from collections import Counter, defaultdict\n",
    "from itertools import islice, combinations\n",
    "from pathlib import Path\n",
    "\n",
    "print(\"Most common letters:\", Counter(\"mississippi\").most_common(3))\n",
    "\n",
    "pairs = list(combinations([1,2,3,4], 2))\n",
    "print(\"All 2‑element pairs:\", pairs)\n",
    "\n",
    "# List first 3 Python files in current dir (lazy)\n",
    "print(\"*.py in this dir:\", list(islice(Path('.').rglob('*.py'), 3)))"
   ]
  },
  {
   "cell_type": "markdown",
   "id": "8dd3fe8d",
   "metadata": {},
   "source": [
    "---\n",
    "# 🔨 Hands‑On Exercises  \n",
    "\n",
    "Try each in the blank cell beneath the description.  \n"
   ]
  },
  {
   "cell_type": "markdown",
   "id": "9c37b4c9",
   "metadata": {},
   "source": [
    "### Exercise 1: Infinite Prime Generator  \n",
    "\n",
    "Write a generator function `primes()` that yields prime numbers indefinitely.  \n",
    "Print the first **10** primes using `next()`."
   ]
  },
  {
   "cell_type": "code",
   "execution_count": 1,
   "id": "1ccb1565",
   "metadata": {},
   "outputs": [
    {
     "name": "stdout",
     "output_type": "stream",
     "text": [
      "2\n",
      "3\n",
      "5\n",
      "7\n",
      "11\n",
      "13\n",
      "17\n",
      "19\n",
      "23\n",
      "29\n"
     ]
    }
   ],
   "source": [
    "# Generator function to yield prime numbers indefinitely\n",
    "def primes():\n",
    "    num = 2\n",
    "    while True:\n",
    "        for i in range(2, int(num**0.5) + 1):\n",
    "            if num % i == 0:\n",
    "                break\n",
    "        else:\n",
    "            yield num\n",
    "        num += 1\n",
    "\n",
    "# Get the first 10 prime numbers\n",
    "gen = primes()\n",
    "for _ in range(10):\n",
    "    print(next(gen))"
   ]
  },
  {
   "cell_type": "markdown",
   "id": "02186ee1",
   "metadata": {},
   "source": [
    "### Exercise 2: Timing Decorator  \n",
    "\n",
    "Create a decorator `time_it` that prints the runtime of the decorated function.  \n",
    "Decorate a function that computes the sum of squares from `1` to `n` and test it with `n = 1_000_000`."
   ]
  },
  {
   "cell_type": "code",
   "execution_count": 3,
   "id": "6a434405",
   "metadata": {},
   "outputs": [
    {
     "name": "stdout",
     "output_type": "stream",
     "text": [
      "Runtime: 0.1053 seconds\n",
      "Result: 333333833333500000\n"
     ]
    }
   ],
   "source": [
    "import time\n",
    "\n",
    "# Decorator to time function execution\n",
    "def time_it(func):\n",
    "    def wrapper(*args, **kwargs):\n",
    "        start = time.time()\n",
    "        result = func(*args, **kwargs)\n",
    "        end = time.time()\n",
    "        print(f\"Runtime: {end - start:.4f} seconds\")\n",
    "        return result\n",
    "    return wrapper\n",
    "\n",
    "# Function to compute the sum of squares from 1 to n\n",
    "@time_it\n",
    "def sum_of_squares(n):\n",
    "    return sum(i*i for i in range(1, n + 1))\n",
    "\n",
    "# Test with n = 1,000,000\n",
    "print(\"Result:\", sum_of_squares(1_000_000))\n"
   ]
  },
  {
   "cell_type": "markdown",
   "id": "1106788e",
   "metadata": {},
   "source": [
    "### Exercise 3: Rectangle Class  \n",
    "\n",
    "Implement a class `Rectangle` with attributes `width`, `height` and methods `area()` and `perimeter()`.  \n",
    "Add `__repr__` so that `print(Rectangle(2, 3))` produces something readable.  Instantiate a rectangle and test the methods."
   ]
  },
  {
   "cell_type": "code",
   "execution_count": 4,
   "id": "9479aea0",
   "metadata": {},
   "outputs": [
    {
     "name": "stdout",
     "output_type": "stream",
     "text": [
      "Rectangle(width=2, height=3)\n",
      "Area: 6\n",
      "Perimeter: 10\n"
     ]
    }
   ],
   "source": [
    "# Your code here\n",
    "class Rectangle:\n",
    "    def __init__(self, width, height):\n",
    "        self.width = width\n",
    "        self.height = height\n",
    "\n",
    "    def area(self):\n",
    "        return self.width * self.height\n",
    "\n",
    "    def perimeter(self):\n",
    "        return 2 * (self.width + self.height)\n",
    "\n",
    "    def __repr__(self):\n",
    "        return f\"Rectangle(width={self.width}, height={self.height})\"\n",
    "\n",
    "# Test the class\n",
    "r = Rectangle(2, 3)\n",
    "print(r)                      # Output: Rectangle(width=2, height=3)\n",
    "print(\"Area:\", r.area())      # Output: Area: 6\n",
    "print(\"Perimeter:\", r.perimeter())  # Output: Perimeter: 10\n"
   ]
  },
  {
   "cell_type": "markdown",
   "id": "093ddc03",
   "metadata": {},
   "source": [
    "### Exercise 4: Letter Frequency  \n",
    "\n",
    "Ask the user to input a sentence (use `input()`), then display the three most common letters using **`collections.Counter`**."
   ]
  },
  {
   "cell_type": "code",
   "execution_count": 9,
   "id": "ffaf3536",
   "metadata": {},
   "outputs": [
    {
     "name": "stdout",
     "output_type": "stream",
     "text": [
      "e: 2\n",
      "n: 1\n",
      "t: 1\n"
     ]
    }
   ],
   "source": [
    "from collections import Counter\n",
    "\n",
    "# Ask user to input a sentence\n",
    "sentence = input(\"Enter a sentence: \")\n",
    "\n",
    "# Count letter frequencies (case-insensitive)\n",
    "letters = [char.lower() for char in sentence if char.isalpha()]\n",
    "letter_counts = Counter(letters)\n",
    "\n",
    "# Display the 3 most common letters\n",
    "for letter, count in letter_counts.most_common(3):\n",
    "    print(f\"{letter}: {count}\")\n",
    "    "
   ]
  },
  {
   "cell_type": "markdown",
   "id": "cc6f28b9",
   "metadata": {},
   "source": [
    "<details>\n",
    "<summary>✅ <strong>Click to reveal example solutions</strong></summary>\n",
    "\n",
    "```python\n",
    "# Exercise 1\n",
    "def primes():\n",
    "    n = 2\n",
    "    found = []\n",
    "    while True:\n",
    "        if all(n % p for p in found):\n",
    "            found.append(n)\n",
    "            yield n\n",
    "        n += 1\n",
    "\n",
    "p = primes()\n",
    "print([next(p) for _ in range(10)])\n",
    "\n",
    "# Exercise 2\n",
    "import time, functools\n",
    "def time_it(fn):\n",
    "    @functools.wraps(fn)\n",
    "    def wrapper(*args, **kwargs):\n",
    "        start = time.perf_counter()\n",
    "        result = fn(*args, **kwargs)\n",
    "        print(f\"{fn.__name__} took {time.perf_counter()-start:.4f}s\")\n",
    "        return result\n",
    "    return wrapper\n",
    "\n",
    "@time_it\n",
    "def sum_squares(n):\n",
    "    return sum(i*i for i in range(1, n+1))\n",
    "\n",
    "sum_squares(1_000_000)\n",
    "\n",
    "# Exercise 3\n",
    "class Rectangle:\n",
    "    def __init__(self, width, height):\n",
    "        self.width, self.height = width, height\n",
    "    def area(self):\n",
    "        return self.width * self.height\n",
    "    def perimeter(self):\n",
    "        return 2*(self.width + self.height)\n",
    "    def __repr__(self):\n",
    "        return f\"Rectangle({self.width}, {self.height})\"\n",
    "\n",
    "r = Rectangle(2, 3)\n",
    "print(r, \"area:\", r.area(), \"perim:\", r.perimeter())\n",
    "\n",
    "# Exercise 4\n",
    "from collections import Counter\n",
    "sentence = \"Hello world\"\n",
    "letters = Counter(c.lower() for c in sentence if c.isalpha())\n",
    "print(letters.most_common(3))\n",
    "```\n",
    "</details>\n"
   ]
  }
 ],
 "metadata": {
  "kernelspec": {
   "display_name": "Python 3",
   "language": "python",
   "name": "python3"
  },
  "language_info": {
   "codemirror_mode": {
    "name": "ipython",
    "version": 3
   },
   "file_extension": ".py",
   "mimetype": "text/x-python",
   "name": "python",
   "nbconvert_exporter": "python",
   "pygments_lexer": "ipython3",
   "version": "3.10.7"
  }
 },
 "nbformat": 4,
 "nbformat_minor": 5
}
